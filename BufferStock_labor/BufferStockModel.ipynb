{
 "cells": [
  {
   "cell_type": "code",
<<<<<<< HEAD
   "execution_count": 1,
   "metadata": {},
   "outputs": [],
=======
   "execution_count": 2,
   "metadata": {},
   "outputs": [
    {
     "name": "stdout",
     "output_type": "stream",
     "text": [
      "The autoreload extension is already loaded. To reload it, use:\n",
      "  %reload_ext autoreload\n"
     ]
    }
   ],
>>>>>>> work
   "source": [
    "%load_ext autoreload\n",
    "%autoreload 2\n",
    "\n",
    "import time\n",
    "import numpy as np\n",
    "import numba as nb\n",
    "\n",
    "# load the BufferStockModel module\n",
    "from BufferStock_labor import BufferStockModelClass\n",
    "\n",
    "# for timing\n",
    "from consav.misc import elapsed"
   ]
  },
  {
   "cell_type": "code",
<<<<<<< HEAD
   "execution_count": 2,
   "metadata": {},
   "outputs": [],
=======
   "execution_count": 3,
   "metadata": {},
   "outputs": [
    {
     "name": "stderr",
     "output_type": "stream",
     "text": [
      "OMP: Info #271: omp_set_nested routine deprecated, please use omp_set_max_active_levels instead.\n"
     ]
    }
   ],
>>>>>>> work
   "source": [
    "nb.set_num_threads(1) # use a single thread for clarity"
   ]
  },
  {
   "cell_type": "code",
<<<<<<< HEAD
   "execution_count": 3,
   "metadata": {},
   "outputs": [
    {
     "name": "stdout",
     "output_type": "stream",
     "text": [
      "### print the model ###\n",
      "\n",
      "Modelclass: BufferStockModelClass\n",
      "Name: baseline\n",
      "\n",
      "namespaces: ['sim', 'par', 'sol']\n",
      "other_attrs: []\n",
      "savefolder: saved\n",
      "cpp_filename: cppfuncs/egm.cpp\n",
      "\n",
      "sim:\n",
      " p = ndarray with shape = (5, 1000) [dtype: float64]\n",
      " m = ndarray with shape = (5, 1000) [dtype: float64]\n",
      " c = ndarray with shape = (5, 1000) [dtype: float64]\n",
      " a = ndarray with shape = (5, 1000) [dtype: float64]\n",
      " l = ndarray with shape = (5, 1000) [dtype: float64]\n",
      " psi = ndarray with shape = (5, 1000) [dtype: float64]\n",
      " xi = ndarray with shape = (5, 1000) [dtype: float64]\n",
      " memory, gb: 0.0\n",
      "\n",
      "par:\n",
      " solmethod = nvfi [str]\n",
      " T = 5 [int]\n",
      " beta = 0.96 [float]\n",
      " rho = 2.0 [float]\n",
      " chi = 1.0 [float]\n",
      " gamma = 2.0 [float]\n",
      " R = 1.03 [float]\n",
      " sigma_psi = 0.1 [float]\n",
      " Npsi = 6 [int]\n",
      " sigma_xi = 0.1 [float]\n",
      " Nxi = 6 [int]\n",
      " pi = 0.1 [float]\n",
      " mu = 0.5 [float]\n",
      " Nm = 600 [int]\n",
      " Np = 400 [int]\n",
      " Na = 800 [int]\n",
      " Nl = 100 [int]\n",
      " tol = 1e-08 [float]\n",
      " do_print = True\n",
      " do_simple_w = False\n",
      " cppthreads = 1 [int]\n",
      " simT = 5 [int]\n",
      " simN = 1000 [int]\n",
      " sim_seed = 1998 [int]\n",
      " grid_m = ndarray with shape = (600,) [dtype: float64]\n",
      " grid_p = ndarray with shape = (400,) [dtype: float64]\n",
      " grid_a = ndarray with shape = (800,) [dtype: float64]\n",
      " grid_l = ndarray with shape = (100,) [dtype: float64]\n",
      " psi = ndarray with shape = (42,) [dtype: float64]\n",
      " psi_w = ndarray with shape = (42,) [dtype: float64]\n",
      " xi = ndarray with shape = (42,) [dtype: float64]\n",
      " xi_w = ndarray with shape = (42,) [dtype: float64]\n",
      " Nshocks = 42 [int]\n",
      " memory, gb: 0.0\n",
      "\n",
      "sol:\n",
      " c = ndarray with shape = (5, 400, 600) [dtype: float64]\n",
      " l = ndarray with shape = (5, 400, 600) [dtype: float64]\n",
      " v = ndarray with shape = (5, 400, 600) [dtype: float64]\n",
      " w = ndarray with shape = (400, 800) [dtype: float64]\n",
      " q = ndarray with shape = (400, 800) [dtype: float64]\n",
      " memory, gb: 0.0\n",
      "\n",
      "### solve and simulate the model ###\n",
      "\n",
      " t = 4 solved in 1.2 secs\n"
     ]
    },
    {
     "name": "stderr",
     "output_type": "stream",
     "text": [
      "Traceback (most recent call last):\n",
      "  File \"/Users/mathissantesson/Dynamic Programming/ConsumptionSavingNotebooks/BufferStock_labor/BufferStock_labor.py\", line 203, in solve\n",
      "    nvfi.solve_bellman(t, sol, par)\n",
      "  File \"/Applications/anaconda3/lib/python3.9/site-packages/numba/core/dispatcher.py\", line 468, in _compile_for_args\n",
      "    error_rewrite(e, 'typing')\n",
      "  File \"/Applications/anaconda3/lib/python3.9/site-packages/numba/core/dispatcher.py\", line 409, in error_rewrite\n",
      "    raise e.with_traceback(None)\n",
      "numba.core.errors.TypingError: Failed in nopython mode pipeline (step: nopython frontend)\n",
      "\u001b[1m\u001b[1mUnknown attribute 'minimize_scalar' of type Module(<module 'scipy.optimize' from '/Applications/anaconda3/lib/python3.9/site-packages/scipy/optimize/__init__.py'>)\n",
      "\u001b[1m\n",
      "File \"nvfi.py\", line 52:\u001b[0m\n",
      "\u001b[1mdef solve_bellman(t, sol, par):\n",
      "    <source elided>\n",
      "                c_high = m\n",
      "\u001b[1m                c[ip, im, il], l[ip, im, il] = scipy.optimize.minimize_scalar(obj_bellman, c_low, c_high, l_val, args=(m, sol.w[ip], par), tol=par.tol)\n",
      "\u001b[0m                \u001b[1m^\u001b[0m\u001b[0m\n",
      "\u001b[0m\n",
      "\u001b[0m\u001b[1mDuring: typing of get attribute at /Users/mathissantesson/Dynamic Programming/ConsumptionSavingNotebooks/BufferStock_labor/nvfi.py (52)\u001b[0m\n",
      "\u001b[1m\n",
      "File \"nvfi.py\", line 52:\u001b[0m\n",
      "\u001b[1mdef solve_bellman(t, sol, par):\n",
      "    <source elided>\n",
      "                c_high = m\n",
      "\u001b[1m                c[ip, im, il], l[ip, im, il] = scipy.optimize.minimize_scalar(obj_bellman, c_low, c_high, l_val, args=(m, sol.w[ip], par), tol=par.tol)\n",
      "\u001b[0m                \u001b[1m^\u001b[0m\u001b[0m\n",
      "\n"
     ]
    },
    {
     "ename": "TypingError",
     "evalue": "Failed in nopython mode pipeline (step: nopython frontend)\n\u001b[1m\u001b[1mUnknown attribute 'minimize_scalar' of type Module(<module 'scipy.optimize' from '/Applications/anaconda3/lib/python3.9/site-packages/scipy/optimize/__init__.py'>)\n\u001b[1m\nFile \"nvfi.py\", line 52:\u001b[0m\n\u001b[1mdef solve_bellman(t, sol, par):\n    <source elided>\n                c_high = m\n\u001b[1m                c[ip, im, il], l[ip, im, il] = scipy.optimize.minimize_scalar(obj_bellman, c_low, c_high, l_val, args=(m, sol.w[ip], par), tol=par.tol)\n\u001b[0m                \u001b[1m^\u001b[0m\u001b[0m\n\u001b[0m\n\u001b[0m\u001b[1mDuring: typing of get attribute at /Users/mathissantesson/Dynamic Programming/ConsumptionSavingNotebooks/BufferStock_labor/nvfi.py (52)\u001b[0m\n\u001b[1m\nFile \"nvfi.py\", line 52:\u001b[0m\n\u001b[1mdef solve_bellman(t, sol, par):\n    <source elided>\n                c_high = m\n\u001b[1m                c[ip, im, il], l[ip, im, il] = scipy.optimize.minimize_scalar(obj_bellman, c_low, c_high, l_val, args=(m, sol.w[ip], par), tol=par.tol)\n\u001b[0m                \u001b[1m^\u001b[0m\u001b[0m\n",
     "output_type": "error",
     "traceback": [
      "\u001b[0;31m---------------------------------------------------------------------------\u001b[0m",
      "\u001b[0;31mTypingError\u001b[0m                               Traceback (most recent call last)",
      "\u001b[0;32m/var/folders/y9/vt1xwgxx0z95m8gt9dkv1t900000gn/T/ipykernel_3794/1708569969.py\u001b[0m in \u001b[0;36m<module>\u001b[0;34m\u001b[0m\n\u001b[1;32m     13\u001b[0m \u001b[0mprint\u001b[0m\u001b[0;34m(\u001b[0m\u001b[0;34m'### solve and simulate the model ###'\u001b[0m\u001b[0;34m)\u001b[0m\u001b[0;34m\u001b[0m\u001b[0;34m\u001b[0m\u001b[0m\n\u001b[1;32m     14\u001b[0m \u001b[0mprint\u001b[0m\u001b[0;34m(\u001b[0m\u001b[0;34m''\u001b[0m\u001b[0;34m)\u001b[0m\u001b[0;34m\u001b[0m\u001b[0;34m\u001b[0m\u001b[0m\n\u001b[0;32m---> 15\u001b[0;31m \u001b[0mmodel\u001b[0m\u001b[0;34m.\u001b[0m\u001b[0msolve\u001b[0m\u001b[0;34m(\u001b[0m\u001b[0;34m)\u001b[0m\u001b[0;34m\u001b[0m\u001b[0;34m\u001b[0m\u001b[0m\n\u001b[0m\u001b[1;32m     16\u001b[0m \u001b[0;34m\u001b[0m\u001b[0m\n\u001b[1;32m     17\u001b[0m \u001b[0;31m# d. simulate\u001b[0m\u001b[0;34m\u001b[0m\u001b[0;34m\u001b[0m\u001b[0m\n",
      "\u001b[0;32m~/Dynamic Programming/ConsumptionSavingNotebooks/BufferStock_labor/BufferStock_labor.py\u001b[0m in \u001b[0;36msolve\u001b[0;34m(self)\u001b[0m\n\u001b[1;32m    201\u001b[0m                         \u001b[0mvfi\u001b[0m\u001b[0;34m.\u001b[0m\u001b[0msolve_bellman\u001b[0m\u001b[0;34m(\u001b[0m\u001b[0mt\u001b[0m\u001b[0;34m,\u001b[0m \u001b[0msol\u001b[0m\u001b[0;34m,\u001b[0m \u001b[0mpar\u001b[0m\u001b[0;34m)\u001b[0m\u001b[0;34m\u001b[0m\u001b[0;34m\u001b[0m\u001b[0m\n\u001b[1;32m    202\u001b[0m                     \u001b[0;32melif\u001b[0m \u001b[0mpar\u001b[0m\u001b[0;34m.\u001b[0m\u001b[0msolmethod\u001b[0m \u001b[0;34m==\u001b[0m \u001b[0;34m'nvfi'\u001b[0m\u001b[0;34m:\u001b[0m\u001b[0;34m\u001b[0m\u001b[0;34m\u001b[0m\u001b[0m\n\u001b[0;32m--> 203\u001b[0;31m                         \u001b[0mnvfi\u001b[0m\u001b[0;34m.\u001b[0m\u001b[0msolve_bellman\u001b[0m\u001b[0;34m(\u001b[0m\u001b[0mt\u001b[0m\u001b[0;34m,\u001b[0m \u001b[0msol\u001b[0m\u001b[0;34m,\u001b[0m \u001b[0mpar\u001b[0m\u001b[0;34m)\u001b[0m\u001b[0;34m\u001b[0m\u001b[0;34m\u001b[0m\u001b[0m\n\u001b[0m\u001b[1;32m    204\u001b[0m                     \u001b[0;32melif\u001b[0m \u001b[0mpar\u001b[0m\u001b[0;34m.\u001b[0m\u001b[0msolmethod\u001b[0m \u001b[0;34m==\u001b[0m \u001b[0;34m'egm'\u001b[0m\u001b[0;34m:\u001b[0m\u001b[0;34m\u001b[0m\u001b[0;34m\u001b[0m\u001b[0m\n\u001b[1;32m    205\u001b[0m                         \u001b[0;31m# Include labor in the EGM method\u001b[0m\u001b[0;34m\u001b[0m\u001b[0;34m\u001b[0m\u001b[0m\n",
      "\u001b[0;32m/Applications/anaconda3/lib/python3.9/site-packages/numba/core/dispatcher.py\u001b[0m in \u001b[0;36m_compile_for_args\u001b[0;34m(self, *args, **kws)\u001b[0m\n\u001b[1;32m    466\u001b[0m                 \u001b[0me\u001b[0m\u001b[0;34m.\u001b[0m\u001b[0mpatch_message\u001b[0m\u001b[0;34m(\u001b[0m\u001b[0mmsg\u001b[0m\u001b[0;34m)\u001b[0m\u001b[0;34m\u001b[0m\u001b[0;34m\u001b[0m\u001b[0m\n\u001b[1;32m    467\u001b[0m \u001b[0;34m\u001b[0m\u001b[0m\n\u001b[0;32m--> 468\u001b[0;31m             \u001b[0merror_rewrite\u001b[0m\u001b[0;34m(\u001b[0m\u001b[0me\u001b[0m\u001b[0;34m,\u001b[0m \u001b[0;34m'typing'\u001b[0m\u001b[0;34m)\u001b[0m\u001b[0;34m\u001b[0m\u001b[0;34m\u001b[0m\u001b[0m\n\u001b[0m\u001b[1;32m    469\u001b[0m         \u001b[0;32mexcept\u001b[0m \u001b[0merrors\u001b[0m\u001b[0;34m.\u001b[0m\u001b[0mUnsupportedError\u001b[0m \u001b[0;32mas\u001b[0m \u001b[0me\u001b[0m\u001b[0;34m:\u001b[0m\u001b[0;34m\u001b[0m\u001b[0;34m\u001b[0m\u001b[0m\n\u001b[1;32m    470\u001b[0m             \u001b[0;31m# Something unsupported is present in the user code, add help info\u001b[0m\u001b[0;34m\u001b[0m\u001b[0;34m\u001b[0m\u001b[0m\n",
      "\u001b[0;32m/Applications/anaconda3/lib/python3.9/site-packages/numba/core/dispatcher.py\u001b[0m in \u001b[0;36merror_rewrite\u001b[0;34m(e, issue_type)\u001b[0m\n\u001b[1;32m    407\u001b[0m                 \u001b[0;32mraise\u001b[0m \u001b[0me\u001b[0m\u001b[0;34m\u001b[0m\u001b[0;34m\u001b[0m\u001b[0m\n\u001b[1;32m    408\u001b[0m             \u001b[0;32melse\u001b[0m\u001b[0;34m:\u001b[0m\u001b[0;34m\u001b[0m\u001b[0;34m\u001b[0m\u001b[0m\n\u001b[0;32m--> 409\u001b[0;31m                 \u001b[0;32mraise\u001b[0m \u001b[0me\u001b[0m\u001b[0;34m.\u001b[0m\u001b[0mwith_traceback\u001b[0m\u001b[0;34m(\u001b[0m\u001b[0;32mNone\u001b[0m\u001b[0;34m)\u001b[0m\u001b[0;34m\u001b[0m\u001b[0;34m\u001b[0m\u001b[0m\n\u001b[0m\u001b[1;32m    410\u001b[0m \u001b[0;34m\u001b[0m\u001b[0m\n\u001b[1;32m    411\u001b[0m         \u001b[0margtypes\u001b[0m \u001b[0;34m=\u001b[0m \u001b[0;34m[\u001b[0m\u001b[0;34m]\u001b[0m\u001b[0;34m\u001b[0m\u001b[0;34m\u001b[0m\u001b[0m\n",
      "\u001b[0;31mTypingError\u001b[0m: Failed in nopython mode pipeline (step: nopython frontend)\n\u001b[1m\u001b[1mUnknown attribute 'minimize_scalar' of type Module(<module 'scipy.optimize' from '/Applications/anaconda3/lib/python3.9/site-packages/scipy/optimize/__init__.py'>)\n\u001b[1m\nFile \"nvfi.py\", line 52:\u001b[0m\n\u001b[1mdef solve_bellman(t, sol, par):\n    <source elided>\n                c_high = m\n\u001b[1m                c[ip, im, il], l[ip, im, il] = scipy.optimize.minimize_scalar(obj_bellman, c_low, c_high, l_val, args=(m, sol.w[ip], par), tol=par.tol)\n\u001b[0m                \u001b[1m^\u001b[0m\u001b[0m\n\u001b[0m\n\u001b[0m\u001b[1mDuring: typing of get attribute at /Users/mathissantesson/Dynamic Programming/ConsumptionSavingNotebooks/BufferStock_labor/nvfi.py (52)\u001b[0m\n\u001b[1m\nFile \"nvfi.py\", line 52:\u001b[0m\n\u001b[1mdef solve_bellman(t, sol, par):\n    <source elided>\n                c_high = m\n\u001b[1m                c[ip, im, il], l[ip, im, il] = scipy.optimize.minimize_scalar(obj_bellman, c_low, c_high, l_val, args=(m, sol.w[ip], par), tol=par.tol)\n\u001b[0m                \u001b[1m^\u001b[0m\u001b[0m\n"
=======
   "execution_count": 6,
   "metadata": {},
   "outputs": [
    {
     "ename": "ValueError",
     "evalue": "too many values to unpack (expected 3)",
     "output_type": "error",
     "traceback": [
      "\u001b[0;31m---------------------------------------------------------------------------\u001b[0m",
      "\u001b[0;31mValueError\u001b[0m                                Traceback (most recent call last)",
      "\u001b[0;32m/var/folders/38/4k8gxvgx5xl9x753jsnhn1_r0000gn/T/ipykernel_43234/374761670.py\u001b[0m in \u001b[0;36m<module>\u001b[0;34m\u001b[0m\n\u001b[1;32m      1\u001b[0m \u001b[0;31m# a. setup\u001b[0m\u001b[0;34m\u001b[0m\u001b[0;34m\u001b[0m\u001b[0m\n\u001b[0;32m----> 2\u001b[0;31m \u001b[0mmodel\u001b[0m \u001b[0;34m=\u001b[0m \u001b[0mBufferStockModelClass\u001b[0m\u001b[0;34m(\u001b[0m\u001b[0mname\u001b[0m\u001b[0;34m=\u001b[0m\u001b[0;34m'baseline'\u001b[0m\u001b[0;34m,\u001b[0m\u001b[0mpar\u001b[0m\u001b[0;34m=\u001b[0m\u001b[0;34m{\u001b[0m\u001b[0;34m'solmethod'\u001b[0m\u001b[0;34m:\u001b[0m\u001b[0;34m'vfi'\u001b[0m\u001b[0;34m}\u001b[0m\u001b[0;34m)\u001b[0m\u001b[0;34m\u001b[0m\u001b[0;34m\u001b[0m\u001b[0m\n\u001b[0m\u001b[1;32m      3\u001b[0m \u001b[0;34m\u001b[0m\u001b[0m\n\u001b[1;32m      4\u001b[0m \u001b[0;31m# name: required\u001b[0m\u001b[0;34m\u001b[0m\u001b[0;34m\u001b[0m\u001b[0m\n\u001b[1;32m      5\u001b[0m \u001b[0;31m# **kwargs: par={}, update parameters in .par AFTER calling .setup\u001b[0m\u001b[0;34m\u001b[0m\u001b[0;34m\u001b[0m\u001b[0m\n",
      "\u001b[0;32m~/opt/anaconda3/lib/python3.9/site-packages/EconModel/EconModel.py\u001b[0m in \u001b[0;36m__init__\u001b[0;34m(self, name, load, from_dict, skip, **kwargs)\u001b[0m\n\u001b[1;32m     85\u001b[0m                 \u001b[0;31m# vi. allocate\u001b[0m\u001b[0;34m\u001b[0m\u001b[0;34m\u001b[0m\u001b[0m\n\u001b[1;32m     86\u001b[0m                 \u001b[0;32massert\u001b[0m \u001b[0mhasattr\u001b[0m\u001b[0;34m(\u001b[0m\u001b[0mself\u001b[0m\u001b[0;34m,\u001b[0m\u001b[0;34m'allocate'\u001b[0m\u001b[0;34m)\u001b[0m\u001b[0;34m,\u001b[0m \u001b[0;34m'the model must have defined an .allocate() method'\u001b[0m\u001b[0;34m\u001b[0m\u001b[0;34m\u001b[0m\u001b[0m\n\u001b[0;32m---> 87\u001b[0;31m                 \u001b[0mself\u001b[0m\u001b[0;34m.\u001b[0m\u001b[0mallocate\u001b[0m\u001b[0;34m(\u001b[0m\u001b[0;34m)\u001b[0m\u001b[0;34m\u001b[0m\u001b[0;34m\u001b[0m\u001b[0m\n\u001b[0m\u001b[1;32m     88\u001b[0m \u001b[0;34m\u001b[0m\u001b[0m\n\u001b[1;32m     89\u001b[0m         \u001b[0;32melse\u001b[0m\u001b[0;34m:\u001b[0m\u001b[0;34m\u001b[0m\u001b[0;34m\u001b[0m\u001b[0m\n",
      "\u001b[0;32m~/Documents/KU/10.semester/Dynamic Programming/Dynamic-Programming-Project/BufferStock_labor/BufferStock_labor.py\u001b[0m in \u001b[0;36mallocate\u001b[0;34m(self)\u001b[0m\n\u001b[1;32m    108\u001b[0m         \u001b[0;34m\"\"\" allocate model, i.e. create grids and allocate solution and simluation arrays \"\"\"\u001b[0m\u001b[0;34m\u001b[0m\u001b[0;34m\u001b[0m\u001b[0m\n\u001b[1;32m    109\u001b[0m \u001b[0;34m\u001b[0m\u001b[0m\n\u001b[0;32m--> 110\u001b[0;31m         \u001b[0mself\u001b[0m\u001b[0;34m.\u001b[0m\u001b[0mcreate_grids\u001b[0m\u001b[0;34m(\u001b[0m\u001b[0;34m)\u001b[0m\u001b[0;34m\u001b[0m\u001b[0;34m\u001b[0m\u001b[0m\n\u001b[0m\u001b[1;32m    111\u001b[0m         \u001b[0mself\u001b[0m\u001b[0;34m.\u001b[0m\u001b[0msolve_prep\u001b[0m\u001b[0;34m(\u001b[0m\u001b[0;34m)\u001b[0m\u001b[0;34m\u001b[0m\u001b[0;34m\u001b[0m\u001b[0m\n\u001b[1;32m    112\u001b[0m         \u001b[0mself\u001b[0m\u001b[0;34m.\u001b[0m\u001b[0msimulate_prep\u001b[0m\u001b[0;34m(\u001b[0m\u001b[0;34m)\u001b[0m\u001b[0;34m\u001b[0m\u001b[0;34m\u001b[0m\u001b[0m\n",
      "\u001b[0;32m~/Documents/KU/10.semester/Dynamic Programming/Dynamic-Programming-Project/BufferStock_labor/BufferStock_labor.py\u001b[0m in \u001b[0;36mcreate_grids\u001b[0;34m(self)\u001b[0m\n\u001b[1;32m    128\u001b[0m             \u001b[0mpar\u001b[0m\u001b[0;34m.\u001b[0m\u001b[0msigma_z\u001b[0m\u001b[0;34m,\u001b[0m\u001b[0mpar\u001b[0m\u001b[0;34m.\u001b[0m\u001b[0mNz\u001b[0m\u001b[0;34m,\u001b[0m\u001b[0;34m\u001b[0m\u001b[0;34m\u001b[0m\u001b[0m\n\u001b[1;32m    129\u001b[0m             par.pi,par.mu)\n\u001b[0;32m--> 130\u001b[0;31m         \u001b[0mpar\u001b[0m\u001b[0;34m.\u001b[0m\u001b[0mz\u001b[0m\u001b[0;34m,\u001b[0m\u001b[0mpar\u001b[0m\u001b[0;34m.\u001b[0m\u001b[0mz_w\u001b[0m\u001b[0;34m,\u001b[0m\u001b[0mpar\u001b[0m\u001b[0;34m.\u001b[0m\u001b[0mNshocks\u001b[0m \u001b[0;34m=\u001b[0m \u001b[0mshocks\u001b[0m\u001b[0;34m\u001b[0m\u001b[0;34m\u001b[0m\u001b[0m\n\u001b[0m\u001b[1;32m    131\u001b[0m \u001b[0;34m\u001b[0m\u001b[0m\n\u001b[1;32m    132\u001b[0m         \u001b[0;31m# e. set seed\u001b[0m\u001b[0;34m\u001b[0m\u001b[0;34m\u001b[0m\u001b[0m\n",
      "\u001b[0;31mValueError\u001b[0m: too many values to unpack (expected 3)"
>>>>>>> work
     ]
    }
   ],
   "source": [
    "# a. setup \n",
<<<<<<< HEAD
    "model = BufferStockModelClass(name='baseline',par={'solmethod':'nvfi','do_simple_w':False})\n",
=======
    "model = BufferStockModelClass(name='baseline',par={'solmethod':'vfi'})\n",
>>>>>>> work
    "\n",
    "# name: required\n",
    "# **kwargs: par={}, update parameters in .par AFTER calling .setup\n",
    "\n",
    "# b. print\n",
    "print('### print the model ###')\n",
    "print('')\n",
    "print(model)\n",
    "\n",
<<<<<<< HEAD
    "# c. solve\n",
=======
    "# # c. solve\n",
>>>>>>> work
    "print('### solve and simulate the model ###')\n",
    "print('')\n",
    "model.solve()\n",
    "\n",
    "# d. simulate\n",
    "print('')\n",
    "model.simulate()\n",
    "\n",
    "# e. save\n",
    "model.save()       "
   ]
  },
  {
   "cell_type": "code",
   "execution_count": null,
   "metadata": {},
   "outputs": [],
   "source": []
  }
 ],
 "metadata": {
  "kernelspec": {
<<<<<<< HEAD
   "display_name": "base",
=======
   "display_name": "Python 3.9.7 ('base')",
>>>>>>> work
   "language": "python",
   "name": "python3"
  },
  "language_info": {
   "codemirror_mode": {
    "name": "ipython",
    "version": 3
   },
   "file_extension": ".py",
   "mimetype": "text/x-python",
   "name": "python",
   "nbconvert_exporter": "python",
   "pygments_lexer": "ipython3",
<<<<<<< HEAD
   "version": "3.9.13"
  },
  "orig_nbformat": 4
=======
   "version": "3.9.7"
  },
  "orig_nbformat": 4,
  "vscode": {
   "interpreter": {
    "hash": "f391330d4b460aafb87b0964baa3bc9feb41f83abb3c41e72e23789a7e646ea5"
   }
  }
>>>>>>> work
 },
 "nbformat": 4,
 "nbformat_minor": 2
}
