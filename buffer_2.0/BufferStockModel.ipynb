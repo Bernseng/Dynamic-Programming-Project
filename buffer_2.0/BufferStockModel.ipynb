{
 "cells": [
  {
   "cell_type": "code",
   "execution_count": 1,
   "metadata": {},
   "outputs": [],
   "source": [
    "# from consav import runtools\n",
    "# runtools.write_numba_config(disable=0,threads=8)"
   ]
  },
  {
   "cell_type": "code",
   "execution_count": 2,
   "metadata": {},
   "outputs": [],
   "source": [
    "import matplotlib.pyplot as plt\n",
    "\n",
    "%matplotlib inline\n",
    "\n",
    "# reload module each time cell is run\n",
    "%load_ext autoreload\n",
    "%autoreload 2\n",
    "\n",
    "# load the BufferStockModel module\n",
    "from BufferStockModel import BufferStockModelClass"
   ]
  },
  {
   "cell_type": "code",
   "execution_count": 3,
   "metadata": {},
   "outputs": [
    {
     "name": "stdout",
     "output_type": "stream",
     "text": [
      " t = 2 solved in 1.4 secs\n"
     ]
    },
    {
     "name": "stderr",
     "output_type": "stream",
     "text": [
      "/home/b163467@PROD.SITAD.DK/Dynamic-Programming-Project/buffer_2.0/vfi.py:68: RuntimeWarning: invalid value encountered in power\n",
      "  c_endo = (par.beta*sol.v[t+1,ip,:])**(-1.0/par.rho)\n",
      "TypeError: only size-1 arrays can be converted to Python scalars\n",
      "\n",
      "The above exception was the direct cause of the following exception:\n",
      "\n",
      "Traceback (most recent call last):\n",
      "  File \"/home/b163467@PROD.SITAD.DK/Dynamic-Programming-Project/buffer_2.0/BufferStockModel.py\", line 195, in solve\n",
      "    vfi.solve_bellman(t,sol,par)\n",
      "  File \"/home/b163467@PROD.SITAD.DK/Dynamic-Programming-Project/buffer_2.0/vfi.py\", line 76, in solve_bellman\n",
      "    c[ip, im] = np.interp(a_exo,a_endo,c_endo)\n",
      "ValueError: setting an array element with a sequence.\n"
     ]
    }
   ],
   "source": [
    "# a. setup \n",
    "model = BufferStockModelClass(name='baseline',par={'solmethod':'vfi','do_simple_w':True})\n",
    "\n",
    "# name: required\n",
    "# **kwargs: par={}, update parameters in .par AFTER calling .setup\n",
    "\n",
    "# b. print\n",
    "# print('### print the model ###')\n",
    "# print('')\n",
    "# print(model)\n",
    "\n",
    "# # c. solve\n",
    "# print('### solve and simulate the model ###')\n",
    "# print('')\n",
    "model.solve()\n",
    "\n",
    "# d. simulate\n",
    "print('')\n",
    "model.simulate()\n",
    "\n",
    "# e. save\n",
    "# model.save()"
   ]
  },
  {
   "cell_type": "code",
   "execution_count": null,
   "metadata": {},
   "outputs": [],
   "source": [
    "model.parlist\n",
    "\n",
    "par = model.par\n",
    "sol = model.sol"
   ]
  },
  {
   "cell_type": "code",
   "execution_count": null,
   "metadata": {},
   "outputs": [],
   "source": [
    "fig = plt.figure(figsize=(12,4),dpi=100)\n",
    "\n",
    "I = par.a_grid < 500\n",
    "\n",
    "# a. consumption\n",
    "ax = fig.add_subplot(1,3,1)\n",
    "ax.set_title(f'consumption')\n",
    "\n",
    "for i_z,z in enumerate(par.grid_m):\n",
    "    if i_z%3 == 0 or i_z == par.Nz-1:\n",
    "        ax.plot(par.a_grid[I],sol.c[0,i_z,I],label=f'z = {z:.2f}')\n",
    "\n",
    "ax.legend(frameon=True)\n",
    "ax.set_xlabel('savings, $a_{t-1}$')\n",
    "ax.set_ylabel('consumption, $c_t$')\n",
    "\n",
    "# b. saving\n",
    "ax = fig.add_subplot(1,3,2)\n",
    "ax.set_title(f'saving')\n",
    "\n",
    "for i_z,z in enumerate(par.grid_m):\n",
    "    if i_z%3 == 0 or i_z == par.Nz-1:\n",
    "        ax.plot(par.a_grid[I],sol.a[0,i_z,I]-par.a_grid[I],label=f'z = {z:.2f}')\n",
    "\n",
    "ax.set_xlabel('savings, $a_{t-1}$')\n",
    "ax.set_ylabel('savings change, $a_{t}-a_{t-1}$')\n",
    "\n",
    "# Labor Supply\n",
    "\n",
    "#fig = plt.figure(figsize=(6,4))\n",
    "ax = fig.add_subplot(1,3,3)\n",
    "\n",
    "ax.set_title(f'Labor Supply')\n",
    "\n",
    "for i_z,z in enumerate(par.grid_m):\n",
    "    if i_z%3 == 0 or i_z == par.Nz-1:\n",
    "        ax.plot(par.a_grid[I],sol.l[0,i_z,I],label=f'z = {z:.2f}')\n",
    "\n",
    "#ax.plot(par.a_grid,sol.l[0,i_z,I])\n",
    "\n",
    "ax.grid(visible=True, which = 'major', linestyle='-', linewidth=0.5, color='0.9', zorder=0)\n",
    "ax.tick_params(axis='both', bottom=True, top=True, left=True, right=True, direction='in', which='both')\n",
    "\n",
    "ax.set_xlabel('savings, $a_{t-1}$')\n",
    "ax.set_ylabel('Labor supply, $l_t$')\n",
    "\n",
    "fig.tight_layout()"
   ]
  }
 ],
 "metadata": {
  "kernelspec": {
   "display_name": "Python 3.9.7 ('base')",
   "language": "python",
   "name": "python3"
  },
  "language_info": {
   "codemirror_mode": {
    "name": "ipython",
    "version": 3
   },
   "file_extension": ".py",
   "mimetype": "text/x-python",
   "name": "python",
   "nbconvert_exporter": "python",
   "pygments_lexer": "ipython3",
   "version": "3.9.7"
  },
  "orig_nbformat": 4,
  "vscode": {
   "interpreter": {
    "hash": "f391330d4b460aafb87b0964baa3bc9feb41f83abb3c41e72e23789a7e646ea5"
   }
  }
 },
 "nbformat": 4,
 "nbformat_minor": 2
}
