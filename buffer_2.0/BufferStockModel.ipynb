{
 "cells": [
  {
   "cell_type": "code",
   "execution_count": 1,
   "metadata": {},
   "outputs": [],
   "source": [
    "# from consav import runtools\n",
    "# runtools.write_numba_config(disable=0,threads=8)"
   ]
  },
  {
   "cell_type": "code",
   "execution_count": 2,
   "metadata": {},
   "outputs": [],
   "source": [
    "%matplotlib inline\n",
    "\n",
    "# reload module each time cell is run\n",
    "%load_ext autoreload\n",
    "%autoreload 2\n",
    "\n",
    "# load the BufferStockModel module\n",
    "from BufferStockModel import BufferStockModelClass"
   ]
  },
  {
   "cell_type": "code",
   "execution_count": 4,
   "metadata": {},
   "outputs": [
    {
     "name": "stdout",
     "output_type": "stream",
     "text": [
      " t = 4 solved in 1.4 secs\n"
     ]
    },
    {
     "name": "stderr",
     "output_type": "stream",
     "text": [
      "Traceback (most recent call last):\n",
      "  File \"/Users/nicolaibernsen/Documents/KU/10.semester/Dynamic Programming/Dynamic-Programming-Project/buffer_2.0/BufferStockModel.py\", line 194, in solve\n",
      "    vfi.solve_bellman(t,sol,par)\n",
      "  File \"/Users/nicolaibernsen/opt/anaconda3/lib/python3.9/site-packages/numba/core/dispatcher.py\", line 482, in _compile_for_args\n",
      "    error_rewrite(e, 'typing')\n",
      "  File \"/Users/nicolaibernsen/opt/anaconda3/lib/python3.9/site-packages/numba/core/dispatcher.py\", line 423, in error_rewrite\n",
      "    raise e.with_traceback(None)\n",
      "numba.core.errors.TypingError: Failed in nopython mode pipeline (step: nopython frontend)\n",
      "\u001b[1m\u001b[1m\u001b[1m\u001b[1mFailed in nopython mode pipeline (step: nopython frontend)\n",
      "\u001b[1m\u001b[1m\u001b[1m\u001b[1m\u001b[1m\u001b[1m\u001b[1m\u001b[1m\u001b[1m\u001b[1mFailed in nopython mode pipeline (step: nopython frontend)\n",
      "Internal error at <numba.core.typeinfer.CallConstraint object at 0x7f85ae4245e0>.\n",
      "\u001b[1m\u001b[1m\u001b[1mmissing a required argument: 'par'\u001b[0m\n",
      "\u001b[0m\u001b[1mDuring: resolving callee type: type(CPUDispatcher(<function func at 0x7f85a7a528b0>))\u001b[0m\n",
      "\u001b[0m\u001b[1mDuring: typing of call at /Users/nicolaibernsen/Documents/KU/10.semester/Dynamic Programming/Dynamic-Programming-Project/buffer_2.0/vfi.py (40)\n",
      "\u001b[0m\n",
      "Enable logging at debug level for details.\n",
      "\u001b[1m\n",
      "File \"vfi.py\", line 40:\u001b[0m\n",
      "\u001b[1mdef obj_bellman(c,p,m,v_plus,par):\n",
      "    <source elided>\n",
      "    # c. total value\n",
      "\u001b[1m    value_of_choice = utility.func(c,par) + w\n",
      "\u001b[0m    \u001b[1m^\u001b[0m\u001b[0m\n",
      "\n",
      "\u001b[0m\u001b[1mDuring: resolving callee type: type(CPUDispatcher(<function obj_bellman at 0x7f85a7a9d3a0>))\u001b[0m\n",
      "\u001b[0m\u001b[1mDuring: typing of call at /Users/nicolaibernsen/opt/anaconda3/lib/python3.9/site-packages/consav/golden_section_search.py (43)\n",
      "\u001b[0m\n",
      "\u001b[0m\u001b[1mDuring: resolving callee type: type(CPUDispatcher(<function obj_bellman at 0x7f85a7a9d3a0>))\u001b[0m\n",
      "\u001b[0m\u001b[1mDuring: typing of call at /Users/nicolaibernsen/opt/anaconda3/lib/python3.9/site-packages/consav/golden_section_search.py (44)\n",
      "\u001b[0m\n",
      "\u001b[0m\u001b[1mDuring: resolving callee type: type(CPUDispatcher(<function obj_bellman at 0x7f85a7a9d3a0>))\u001b[0m\n",
      "\u001b[0m\u001b[1mDuring: typing of call at /Users/nicolaibernsen/opt/anaconda3/lib/python3.9/site-packages/consav/golden_section_search.py (54)\n",
      "\u001b[0m\n",
      "\u001b[0m\u001b[1mDuring: resolving callee type: type(CPUDispatcher(<function obj_bellman at 0x7f85a7a9d3a0>))\u001b[0m\n",
      "\u001b[0m\u001b[1mDuring: typing of call at /Users/nicolaibernsen/opt/anaconda3/lib/python3.9/site-packages/consav/golden_section_search.py (61)\n",
      "\u001b[0m\n",
      "\u001b[0m\u001b[1mDuring: resolving callee type: type(CPUDispatcher(<function obj_bellman at 0x7f85a7a9d3a0>))\u001b[0m\n",
      "\u001b[0m\u001b[1mDuring: typing of call at /Users/nicolaibernsen/opt/anaconda3/lib/python3.9/site-packages/consav/golden_section_search.py (43)\n",
      "\u001b[0m\n",
      "\u001b[1m\n",
      "File \"../../../../../../opt/anaconda3/lib/python3.9/site-packages/consav/golden_section_search.py\", line 43:\u001b[0m\n",
      "\u001b[1mdef optimizer(obj,a,b,args=(),tol=1e-6):\n",
      "    <source elided>\n",
      "    d = a + inv_phi * dist\n",
      "\u001b[1m    yc = obj(c,*args)\n",
      "\u001b[0m    \u001b[1m^\u001b[0m\u001b[0m\n",
      "\n",
      "\u001b[0m\u001b[1mDuring: resolving callee type: type(CPUDispatcher(<function optimizer at 0x7f85a8de3430>))\u001b[0m\n",
      "\u001b[0m\u001b[1mDuring: typing of call at /Users/nicolaibernsen/Documents/KU/10.semester/Dynamic Programming/Dynamic-Programming-Project/buffer_2.0/vfi.py (68)\n",
      "\u001b[0m\n",
      "\u001b[0m\u001b[1mDuring: resolving callee type: type(CPUDispatcher(<function optimizer at 0x7f85a8de3430>))\u001b[0m\n",
      "\u001b[0m\u001b[1mDuring: typing of call at /Users/nicolaibernsen/Documents/KU/10.semester/Dynamic Programming/Dynamic-Programming-Project/buffer_2.0/vfi.py (68)\n",
      "\u001b[0m\n",
      "\u001b[1m\n",
      "File \"vfi.py\", line 68:\u001b[0m\n",
      "\u001b[1mdef solve_bellman(t,sol,par):\n",
      "    <source elided>\n",
      "            c_high = m\n",
      "\u001b[1m            c[ip,im] = golden_section_search.optimizer(obj_bellman,c_low,c_high,args=(p,m,sol.v[t+1],par),tol=par.tol)\n",
      "\u001b[0m            \u001b[1m^\u001b[0m\u001b[0m\n",
      "\n"
     ]
    },
    {
     "ename": "TypingError",
     "evalue": "Failed in nopython mode pipeline (step: nopython frontend)\n\u001b[1m\u001b[1m\u001b[1m\u001b[1mFailed in nopython mode pipeline (step: nopython frontend)\n\u001b[1m\u001b[1m\u001b[1m\u001b[1m\u001b[1m\u001b[1m\u001b[1m\u001b[1m\u001b[1m\u001b[1mFailed in nopython mode pipeline (step: nopython frontend)\nInternal error at <numba.core.typeinfer.CallConstraint object at 0x7f85ae4245e0>.\n\u001b[1m\u001b[1m\u001b[1mmissing a required argument: 'par'\u001b[0m\n\u001b[0m\u001b[1mDuring: resolving callee type: type(CPUDispatcher(<function func at 0x7f85a7a528b0>))\u001b[0m\n\u001b[0m\u001b[1mDuring: typing of call at /Users/nicolaibernsen/Documents/KU/10.semester/Dynamic Programming/Dynamic-Programming-Project/buffer_2.0/vfi.py (40)\n\u001b[0m\nEnable logging at debug level for details.\n\u001b[1m\nFile \"vfi.py\", line 40:\u001b[0m\n\u001b[1mdef obj_bellman(c,p,m,v_plus,par):\n    <source elided>\n    # c. total value\n\u001b[1m    value_of_choice = utility.func(c,par) + w\n\u001b[0m    \u001b[1m^\u001b[0m\u001b[0m\n\n\u001b[0m\u001b[1mDuring: resolving callee type: type(CPUDispatcher(<function obj_bellman at 0x7f85a7a9d3a0>))\u001b[0m\n\u001b[0m\u001b[1mDuring: typing of call at /Users/nicolaibernsen/opt/anaconda3/lib/python3.9/site-packages/consav/golden_section_search.py (43)\n\u001b[0m\n\u001b[0m\u001b[1mDuring: resolving callee type: type(CPUDispatcher(<function obj_bellman at 0x7f85a7a9d3a0>))\u001b[0m\n\u001b[0m\u001b[1mDuring: typing of call at /Users/nicolaibernsen/opt/anaconda3/lib/python3.9/site-packages/consav/golden_section_search.py (44)\n\u001b[0m\n\u001b[0m\u001b[1mDuring: resolving callee type: type(CPUDispatcher(<function obj_bellman at 0x7f85a7a9d3a0>))\u001b[0m\n\u001b[0m\u001b[1mDuring: typing of call at /Users/nicolaibernsen/opt/anaconda3/lib/python3.9/site-packages/consav/golden_section_search.py (54)\n\u001b[0m\n\u001b[0m\u001b[1mDuring: resolving callee type: type(CPUDispatcher(<function obj_bellman at 0x7f85a7a9d3a0>))\u001b[0m\n\u001b[0m\u001b[1mDuring: typing of call at /Users/nicolaibernsen/opt/anaconda3/lib/python3.9/site-packages/consav/golden_section_search.py (61)\n\u001b[0m\n\u001b[0m\u001b[1mDuring: resolving callee type: type(CPUDispatcher(<function obj_bellman at 0x7f85a7a9d3a0>))\u001b[0m\n\u001b[0m\u001b[1mDuring: typing of call at /Users/nicolaibernsen/opt/anaconda3/lib/python3.9/site-packages/consav/golden_section_search.py (43)\n\u001b[0m\n\u001b[1m\nFile \"../../../../../../opt/anaconda3/lib/python3.9/site-packages/consav/golden_section_search.py\", line 43:\u001b[0m\n\u001b[1mdef optimizer(obj,a,b,args=(),tol=1e-6):\n    <source elided>\n    d = a + inv_phi * dist\n\u001b[1m    yc = obj(c,*args)\n\u001b[0m    \u001b[1m^\u001b[0m\u001b[0m\n\n\u001b[0m\u001b[1mDuring: resolving callee type: type(CPUDispatcher(<function optimizer at 0x7f85a8de3430>))\u001b[0m\n\u001b[0m\u001b[1mDuring: typing of call at /Users/nicolaibernsen/Documents/KU/10.semester/Dynamic Programming/Dynamic-Programming-Project/buffer_2.0/vfi.py (68)\n\u001b[0m\n\u001b[0m\u001b[1mDuring: resolving callee type: type(CPUDispatcher(<function optimizer at 0x7f85a8de3430>))\u001b[0m\n\u001b[0m\u001b[1mDuring: typing of call at /Users/nicolaibernsen/Documents/KU/10.semester/Dynamic Programming/Dynamic-Programming-Project/buffer_2.0/vfi.py (68)\n\u001b[0m\n\u001b[1m\nFile \"vfi.py\", line 68:\u001b[0m\n\u001b[1mdef solve_bellman(t,sol,par):\n    <source elided>\n            c_high = m\n\u001b[1m            c[ip,im] = golden_section_search.optimizer(obj_bellman,c_low,c_high,args=(p,m,sol.v[t+1],par),tol=par.tol)\n\u001b[0m            \u001b[1m^\u001b[0m\u001b[0m\n",
     "output_type": "error",
     "traceback": [
      "\u001b[0;31m---------------------------------------------------------------------------\u001b[0m",
      "\u001b[0;31mTypingError\u001b[0m                               Traceback (most recent call last)",
      "\u001b[0;32m/var/folders/38/4k8gxvgx5xl9x753jsnhn1_r0000gn/T/ipykernel_49682/4150679889.py\u001b[0m in \u001b[0;36m<module>\u001b[0;34m\u001b[0m\n\u001b[1;32m     13\u001b[0m \u001b[0;31m# print('### solve and simulate the model ###')\u001b[0m\u001b[0;34m\u001b[0m\u001b[0;34m\u001b[0m\u001b[0m\n\u001b[1;32m     14\u001b[0m \u001b[0;31m# print('')\u001b[0m\u001b[0;34m\u001b[0m\u001b[0;34m\u001b[0m\u001b[0m\n\u001b[0;32m---> 15\u001b[0;31m \u001b[0mmodel\u001b[0m\u001b[0;34m.\u001b[0m\u001b[0msolve\u001b[0m\u001b[0;34m(\u001b[0m\u001b[0;34m)\u001b[0m\u001b[0;34m\u001b[0m\u001b[0;34m\u001b[0m\u001b[0m\n\u001b[0m\u001b[1;32m     16\u001b[0m \u001b[0;34m\u001b[0m\u001b[0m\n\u001b[1;32m     17\u001b[0m \u001b[0;31m# d. simulate\u001b[0m\u001b[0;34m\u001b[0m\u001b[0;34m\u001b[0m\u001b[0m\n",
      "\u001b[0;32m~/Documents/KU/10.semester/Dynamic Programming/Dynamic-Programming-Project/buffer_2.0/BufferStockModel.py\u001b[0m in \u001b[0;36msolve\u001b[0;34m(self)\u001b[0m\n\u001b[1;32m    192\u001b[0m                     \u001b[0;31m# ii. solve bellman equation\u001b[0m\u001b[0;34m\u001b[0m\u001b[0;34m\u001b[0m\u001b[0m\n\u001b[1;32m    193\u001b[0m                     \u001b[0;32mif\u001b[0m \u001b[0mpar\u001b[0m\u001b[0;34m.\u001b[0m\u001b[0msolmethod\u001b[0m \u001b[0;34m==\u001b[0m \u001b[0;34m'vfi'\u001b[0m\u001b[0;34m:\u001b[0m\u001b[0;34m\u001b[0m\u001b[0;34m\u001b[0m\u001b[0m\n\u001b[0;32m--> 194\u001b[0;31m                         \u001b[0mvfi\u001b[0m\u001b[0;34m.\u001b[0m\u001b[0msolve_bellman\u001b[0m\u001b[0;34m(\u001b[0m\u001b[0mt\u001b[0m\u001b[0;34m,\u001b[0m\u001b[0msol\u001b[0m\u001b[0;34m,\u001b[0m\u001b[0mpar\u001b[0m\u001b[0;34m)\u001b[0m\u001b[0;34m\u001b[0m\u001b[0;34m\u001b[0m\u001b[0m\n\u001b[0m\u001b[1;32m    195\u001b[0m                     \u001b[0;32melif\u001b[0m \u001b[0mpar\u001b[0m\u001b[0;34m.\u001b[0m\u001b[0msolmethod\u001b[0m \u001b[0;34m==\u001b[0m \u001b[0;34m'nvfi'\u001b[0m\u001b[0;34m:\u001b[0m\u001b[0;34m\u001b[0m\u001b[0;34m\u001b[0m\u001b[0m\n\u001b[1;32m    196\u001b[0m                         \u001b[0mnvfi\u001b[0m\u001b[0;34m.\u001b[0m\u001b[0msolve_bellman\u001b[0m\u001b[0;34m(\u001b[0m\u001b[0mt\u001b[0m\u001b[0;34m,\u001b[0m\u001b[0msol\u001b[0m\u001b[0;34m,\u001b[0m\u001b[0mpar\u001b[0m\u001b[0;34m)\u001b[0m\u001b[0;34m\u001b[0m\u001b[0;34m\u001b[0m\u001b[0m\n",
      "\u001b[0;32m~/opt/anaconda3/lib/python3.9/site-packages/numba/core/dispatcher.py\u001b[0m in \u001b[0;36m_compile_for_args\u001b[0;34m(self, *args, **kws)\u001b[0m\n\u001b[1;32m    480\u001b[0m                 \u001b[0me\u001b[0m\u001b[0;34m.\u001b[0m\u001b[0mpatch_message\u001b[0m\u001b[0;34m(\u001b[0m\u001b[0mmsg\u001b[0m\u001b[0;34m)\u001b[0m\u001b[0;34m\u001b[0m\u001b[0;34m\u001b[0m\u001b[0m\n\u001b[1;32m    481\u001b[0m \u001b[0;34m\u001b[0m\u001b[0m\n\u001b[0;32m--> 482\u001b[0;31m             \u001b[0merror_rewrite\u001b[0m\u001b[0;34m(\u001b[0m\u001b[0me\u001b[0m\u001b[0;34m,\u001b[0m \u001b[0;34m'typing'\u001b[0m\u001b[0;34m)\u001b[0m\u001b[0;34m\u001b[0m\u001b[0;34m\u001b[0m\u001b[0m\n\u001b[0m\u001b[1;32m    483\u001b[0m         \u001b[0;32mexcept\u001b[0m \u001b[0merrors\u001b[0m\u001b[0;34m.\u001b[0m\u001b[0mUnsupportedError\u001b[0m \u001b[0;32mas\u001b[0m \u001b[0me\u001b[0m\u001b[0;34m:\u001b[0m\u001b[0;34m\u001b[0m\u001b[0;34m\u001b[0m\u001b[0m\n\u001b[1;32m    484\u001b[0m             \u001b[0;31m# Something unsupported is present in the user code, add help info\u001b[0m\u001b[0;34m\u001b[0m\u001b[0;34m\u001b[0m\u001b[0m\n",
      "\u001b[0;32m~/opt/anaconda3/lib/python3.9/site-packages/numba/core/dispatcher.py\u001b[0m in \u001b[0;36merror_rewrite\u001b[0;34m(e, issue_type)\u001b[0m\n\u001b[1;32m    421\u001b[0m                 \u001b[0;32mraise\u001b[0m \u001b[0me\u001b[0m\u001b[0;34m\u001b[0m\u001b[0;34m\u001b[0m\u001b[0m\n\u001b[1;32m    422\u001b[0m             \u001b[0;32melse\u001b[0m\u001b[0;34m:\u001b[0m\u001b[0;34m\u001b[0m\u001b[0;34m\u001b[0m\u001b[0m\n\u001b[0;32m--> 423\u001b[0;31m                 \u001b[0;32mraise\u001b[0m \u001b[0me\u001b[0m\u001b[0;34m.\u001b[0m\u001b[0mwith_traceback\u001b[0m\u001b[0;34m(\u001b[0m\u001b[0;32mNone\u001b[0m\u001b[0;34m)\u001b[0m\u001b[0;34m\u001b[0m\u001b[0;34m\u001b[0m\u001b[0m\n\u001b[0m\u001b[1;32m    424\u001b[0m \u001b[0;34m\u001b[0m\u001b[0m\n\u001b[1;32m    425\u001b[0m         \u001b[0margtypes\u001b[0m \u001b[0;34m=\u001b[0m \u001b[0;34m[\u001b[0m\u001b[0;34m]\u001b[0m\u001b[0;34m\u001b[0m\u001b[0;34m\u001b[0m\u001b[0m\n",
      "\u001b[0;31mTypingError\u001b[0m: Failed in nopython mode pipeline (step: nopython frontend)\n\u001b[1m\u001b[1m\u001b[1m\u001b[1mFailed in nopython mode pipeline (step: nopython frontend)\n\u001b[1m\u001b[1m\u001b[1m\u001b[1m\u001b[1m\u001b[1m\u001b[1m\u001b[1m\u001b[1m\u001b[1mFailed in nopython mode pipeline (step: nopython frontend)\nInternal error at <numba.core.typeinfer.CallConstraint object at 0x7f85ae4245e0>.\n\u001b[1m\u001b[1m\u001b[1mmissing a required argument: 'par'\u001b[0m\n\u001b[0m\u001b[1mDuring: resolving callee type: type(CPUDispatcher(<function func at 0x7f85a7a528b0>))\u001b[0m\n\u001b[0m\u001b[1mDuring: typing of call at /Users/nicolaibernsen/Documents/KU/10.semester/Dynamic Programming/Dynamic-Programming-Project/buffer_2.0/vfi.py (40)\n\u001b[0m\nEnable logging at debug level for details.\n\u001b[1m\nFile \"vfi.py\", line 40:\u001b[0m\n\u001b[1mdef obj_bellman(c,p,m,v_plus,par):\n    <source elided>\n    # c. total value\n\u001b[1m    value_of_choice = utility.func(c,par) + w\n\u001b[0m    \u001b[1m^\u001b[0m\u001b[0m\n\n\u001b[0m\u001b[1mDuring: resolving callee type: type(CPUDispatcher(<function obj_bellman at 0x7f85a7a9d3a0>))\u001b[0m\n\u001b[0m\u001b[1mDuring: typing of call at /Users/nicolaibernsen/opt/anaconda3/lib/python3.9/site-packages/consav/golden_section_search.py (43)\n\u001b[0m\n\u001b[0m\u001b[1mDuring: resolving callee type: type(CPUDispatcher(<function obj_bellman at 0x7f85a7a9d3a0>))\u001b[0m\n\u001b[0m\u001b[1mDuring: typing of call at /Users/nicolaibernsen/opt/anaconda3/lib/python3.9/site-packages/consav/golden_section_search.py (44)\n\u001b[0m\n\u001b[0m\u001b[1mDuring: resolving callee type: type(CPUDispatcher(<function obj_bellman at 0x7f85a7a9d3a0>))\u001b[0m\n\u001b[0m\u001b[1mDuring: typing of call at /Users/nicolaibernsen/opt/anaconda3/lib/python3.9/site-packages/consav/golden_section_search.py (54)\n\u001b[0m\n\u001b[0m\u001b[1mDuring: resolving callee type: type(CPUDispatcher(<function obj_bellman at 0x7f85a7a9d3a0>))\u001b[0m\n\u001b[0m\u001b[1mDuring: typing of call at /Users/nicolaibernsen/opt/anaconda3/lib/python3.9/site-packages/consav/golden_section_search.py (61)\n\u001b[0m\n\u001b[0m\u001b[1mDuring: resolving callee type: type(CPUDispatcher(<function obj_bellman at 0x7f85a7a9d3a0>))\u001b[0m\n\u001b[0m\u001b[1mDuring: typing of call at /Users/nicolaibernsen/opt/anaconda3/lib/python3.9/site-packages/consav/golden_section_search.py (43)\n\u001b[0m\n\u001b[1m\nFile \"../../../../../../opt/anaconda3/lib/python3.9/site-packages/consav/golden_section_search.py\", line 43:\u001b[0m\n\u001b[1mdef optimizer(obj,a,b,args=(),tol=1e-6):\n    <source elided>\n    d = a + inv_phi * dist\n\u001b[1m    yc = obj(c,*args)\n\u001b[0m    \u001b[1m^\u001b[0m\u001b[0m\n\n\u001b[0m\u001b[1mDuring: resolving callee type: type(CPUDispatcher(<function optimizer at 0x7f85a8de3430>))\u001b[0m\n\u001b[0m\u001b[1mDuring: typing of call at /Users/nicolaibernsen/Documents/KU/10.semester/Dynamic Programming/Dynamic-Programming-Project/buffer_2.0/vfi.py (68)\n\u001b[0m\n\u001b[0m\u001b[1mDuring: resolving callee type: type(CPUDispatcher(<function optimizer at 0x7f85a8de3430>))\u001b[0m\n\u001b[0m\u001b[1mDuring: typing of call at /Users/nicolaibernsen/Documents/KU/10.semester/Dynamic Programming/Dynamic-Programming-Project/buffer_2.0/vfi.py (68)\n\u001b[0m\n\u001b[1m\nFile \"vfi.py\", line 68:\u001b[0m\n\u001b[1mdef solve_bellman(t,sol,par):\n    <source elided>\n            c_high = m\n\u001b[1m            c[ip,im] = golden_section_search.optimizer(obj_bellman,c_low,c_high,args=(p,m,sol.v[t+1],par),tol=par.tol)\n\u001b[0m            \u001b[1m^\u001b[0m\u001b[0m\n"
     ]
    }
   ],
   "source": [
    "# a. setup \n",
    "model = BufferStockModelClass(name='baseline',par={'solmethod':'vfi','do_simple_w':True})\n",
    "\n",
    "# name: required\n",
    "# **kwargs: par={}, update parameters in .par AFTER calling .setup\n",
    "\n",
    "# b. print\n",
    "# print('### print the model ###')\n",
    "# print('')\n",
    "# print(model)\n",
    "\n",
    "# # c. solve\n",
    "# print('### solve and simulate the model ###')\n",
    "# print('')\n",
    "model.solve()\n",
    "\n",
    "# d. simulate\n",
    "print('')\n",
    "model.simulate()\n",
    "\n",
    "# e. save\n",
    "model.save()"
   ]
  },
  {
   "cell_type": "code",
   "execution_count": null,
   "metadata": {},
   "outputs": [],
   "source": [
    "model.parlist"
   ]
  }
 ],
 "metadata": {
  "kernelspec": {
   "display_name": "Python 3.9.7 ('base')",
   "language": "python",
   "name": "python3"
  },
  "language_info": {
   "codemirror_mode": {
    "name": "ipython",
    "version": 3
   },
   "file_extension": ".py",
   "mimetype": "text/x-python",
   "name": "python",
   "nbconvert_exporter": "python",
   "pygments_lexer": "ipython3",
   "version": "3.9.7"
  },
  "orig_nbformat": 4,
  "vscode": {
   "interpreter": {
    "hash": "f391330d4b460aafb87b0964baa3bc9feb41f83abb3c41e72e23789a7e646ea5"
   }
  }
 },
 "nbformat": 4,
 "nbformat_minor": 2
}
