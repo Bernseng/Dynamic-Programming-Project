{
 "cells": [
  {
   "cell_type": "code",
   "execution_count": null,
   "metadata": {},
   "outputs": [],
   "source": [
    "# imports\n",
    "import numpy as np"
   ]
  },
  {
   "cell_type": "markdown",
   "metadata": {},
   "source": [
    "# Dynamic Programming Project 2023\n",
    "---\n",
    "This notebook solves the project presented in the `model.py` file\n",
    "\n",
    "ChatGPT has the following answer to the question:\n",
    "- *How would you extend a consumption savings model in a dynamic programming course project?*\n",
    "\n",
    "\"Extending a consumption savings model in a dynamic programming course project can involve adding additional features to the basic model or modifying the assumptions of the model to make it more realistic. Here are a few ideas for extending a consumption savings model in a dynamic programming project:\n",
    "\n",
    "**Add constraints**: One way to make the consumption savings model more realistic is to add constraints to the optimization problem. For example, you could add a borrowing constraint to the model to limit the amount of debt that households can take on. This would affect their consumption and savings decisions, as they would have to balance their desire to consume with their ability to borrow.\n",
    "\n",
    "**Incorporate uncertainty**: Another way to extend the model is to incorporate uncertainty into the decision-making process. You could add a stochastic element to the model, such as a random income shock, to simulate the uncertainty that households face in the real world. This would require you to use dynamic programming methods that are suited to stochastic optimization problems.\n",
    "\n",
    "**Consider heterogeneous agents**: A more complex extension would be to consider the heterogeneity of agents in the model. You could assume that households have different preferences or abilities to save, and that they face different constraints. This would require you to use dynamic programming methods that can handle optimization problems with multiple agents.\n",
    "\n",
    "**Analyze policy interventions**: Finally, you could use the consumption savings model to analyze the effects of policy interventions on households. For example, you could simulate the effects of a tax cut or a change in interest rates on household consumption and savings decisions. This would allow you to evaluate the effectiveness of different policy interventions in achieving their intended goals.\n",
    "\n",
    "Overall, extending a consumption savings model in a dynamic programming project requires careful consideration of the features and assumptions of the model and how they can be modified to capture real-world phenomena. It also requires knowledge of dynamic programming methods and how to apply them to solve optimization problems.\""
   ]
  },
  {
   "attachments": {},
   "cell_type": "markdown",
   "metadata": {},
   "source": [
    "## Setup"
   ]
  },
  {
   "cell_type": "code",
   "execution_count": null,
   "metadata": {},
   "outputs": [],
   "source": [
    "%load_ext autoreload\n",
    "%autoreload 2\n",
    "\n",
    "import numpy as np\n",
    "import numba as nb\n",
    "\n",
    "import matplotlib.pyplot as plt\n",
    "plt.style.use('seaborn-whitegrid')\n",
    "prop_cycle = plt.rcParams['axes.prop_cycle']\n",
    "colors = prop_cycle.by_key()['color']\n",
    "\n",
    "from EconModel import EconModelClass, jit "
   ]
  },
  {
   "attachments": {},
   "cell_type": "markdown",
   "metadata": {},
   "source": [
    "## Baseline Consumption Savings Model"
   ]
  },
  {
   "cell_type": "code",
   "execution_count": null,
   "metadata": {},
   "outputs": [],
   "source": [
    "from consav_model import ConSavModelClass\n"
   ]
  },
  {
   "attachments": {},
   "cell_type": "markdown",
   "metadata": {},
   "source": [
    "### Value Function Iteration"
   ]
  },
  {
   "cell_type": "code",
   "execution_count": null,
   "metadata": {},
   "outputs": [],
   "source": [
    "model_vfi = ConSavModelClass()\n"
   ]
  },
  {
   "cell_type": "code",
   "execution_count": null,
   "metadata": {},
   "outputs": [],
   "source": [
    "par = model_vfi.par\n",
    "sol = model_vfi.sol\n",
    "sim = model_vfi.sim"
   ]
  },
  {
   "cell_type": "code",
   "execution_count": 18,
   "metadata": {},
   "outputs": [
    {
     "name": "stdout",
     "output_type": "stream",
     "text": [
      "iteration  100 solved in 0.3 secs   [max abs. diff. 1.85e-02]\n",
      "iteration  200 solved in 0.2 secs   [max abs. diff. 3.09e-04]\n",
      "iteration  300 solved in 0.3 secs   [max abs. diff. 5.21e-06]\n",
      "iteration  400 solved in 0.2 secs   [max abs. diff. 8.78e-08]\n"
     ]
    }
   ],
   "source": [
    "model_vfi.solve(do_print=True,algo='vfi')"
   ]
  },
  {
   "attachments": {},
   "cell_type": "markdown",
   "metadata": {},
   "source": [
    "### Endogenous Grid Method"
   ]
  },
  {
   "cell_type": "code",
   "execution_count": null,
   "metadata": {},
   "outputs": [],
   "source": [
    "model_egm = model_vfi.copy()"
   ]
  },
  {
   "cell_type": "code",
   "execution_count": null,
   "metadata": {},
   "outputs": [],
   "source": [
    "model_egm.solve(do_print=True,algo='egm')"
   ]
  },
  {
   "attachments": {},
   "cell_type": "markdown",
   "metadata": {},
   "source": [
    "### Compare Solution Methods"
   ]
  },
  {
   "cell_type": "code",
   "execution_count": null,
   "metadata": {},
   "outputs": [],
   "source": [
    "fig = plt.figure()\n",
    "ax = fig.add_subplot(1,1,1)\n",
    "for i_z in range(par.Nz):\n",
    "    ax.plot(par.a_grid,model_vfi.sol.a[i_z,:]-model_egm.sol.a[i_z,:])\n",
    "    \n",
    "ax.set_xlabel('$a_{t-1}$');\n",
    "ax.set_ylabel('diff. to egm');"
   ]
  },
  {
   "cell_type": "code",
   "execution_count": null,
   "metadata": {},
   "outputs": [],
   "source": []
  }
 ],
 "metadata": {
  "kernelspec": {
   "display_name": "Python 3.9.7 ('base')",
   "language": "python",
   "name": "python3"
  },
  "language_info": {
   "codemirror_mode": {
    "name": "ipython",
    "version": 3
   },
   "file_extension": ".py",
   "mimetype": "text/x-python",
   "name": "python",
   "nbconvert_exporter": "python",
   "pygments_lexer": "ipython3",
   "version": "3.9.7"
  },
  "orig_nbformat": 4,
  "vscode": {
   "interpreter": {
    "hash": "f391330d4b460aafb87b0964baa3bc9feb41f83abb3c41e72e23789a7e646ea5"
   }
  }
 },
 "nbformat": 4,
 "nbformat_minor": 2
}
