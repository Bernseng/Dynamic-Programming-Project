{
 "cells": [
  {
   "cell_type": "markdown",
   "metadata": {},
   "source": [
    "# Dynamic Programming Project 2023\n",
    "---\n",
    "This notebook solves the project presented in the `model.py` file\n",
    "\n",
    "ChatGPT has the following answer to the question:\n",
    "- *How would you extend a consumption savings model in a dynamic programming course project?*\n",
    "\n",
    "\"Extending a consumption savings model in a dynamic programming course project can involve adding additional features to the basic model or modifying the assumptions of the model to make it more realistic. Here are a few ideas for extending a consumption savings model in a dynamic programming project:\n",
    "\n",
    "**Add constraints**: One way to make the consumption savings model more realistic is to add constraints to the optimization problem. For example, you could add a borrowing constraint to the model to limit the amount of debt that households can take on. This would affect their consumption and savings decisions, as they would have to balance their desire to consume with their ability to borrow.\n",
    "\n",
    "**Incorporate uncertainty**: Another way to extend the model is to incorporate uncertainty into the decision-making process. You could add a stochastic element to the model, such as a random income shock, to simulate the uncertainty that households face in the real world. This would require you to use dynamic programming methods that are suited to stochastic optimization problems.\n",
    "\n",
    "**Consider heterogeneous agents**: A more complex extension would be to consider the heterogeneity of agents in the model. You could assume that households have different preferences or abilities to save, and that they face different constraints. This would require you to use dynamic programming methods that can handle optimization problems with multiple agents.\n",
    "\n",
    "**Analyze policy interventions**: Finally, you could use the consumption savings model to analyze the effects of policy interventions on households. For example, you could simulate the effects of a tax cut or a change in interest rates on household consumption and savings decisions. This would allow you to evaluate the effectiveness of different policy interventions in achieving their intended goals.\n",
    "\n",
    "Overall, extending a consumption savings model in a dynamic programming project requires careful consideration of the features and assumptions of the model and how they can be modified to capture real-world phenomena. It also requires knowledge of dynamic programming methods and how to apply them to solve optimization problems.\""
   ]
  },
  {
   "attachments": {},
   "cell_type": "markdown",
   "metadata": {},
   "source": [
    "## Setup"
   ]
  },
  {
   "cell_type": "code",
   "execution_count": 1,
   "metadata": {},
   "outputs": [],
   "source": [
    "%load_ext autoreload\n",
    "%autoreload 2\n",
    "\n",
    "import time\n",
    "import pickle\n",
    "import numpy as np\n",
    "from scipy import optimize\n",
    "#%pip install -e /Users/ElenaCero/Desktop/Polit/9.semester/GEModelTools\n",
    "\n",
    "import sys\n",
    "sys.path.append('hank_labor_model')\n",
    "import matplotlib.pyplot as plt   \n",
    "plt.style.use('seaborn-whitegrid')\n",
    "prop_cycle = plt.rcParams['axes.prop_cycle']\n",
    "colors = prop_cycle.by_key()['color']\n",
    "\n",
    "from EconModel import EconModelClass, jit "
   ]
  },
  {
   "attachments": {},
   "cell_type": "markdown",
   "metadata": {},
   "source": [
    "## Baseline Consumption Savings Model"
   ]
  },
  {
   "cell_type": "code",
   "execution_count": 8,
   "metadata": {},
   "outputs": [
    {
     "name": "stdout",
     "output_type": "stream",
     "text": [
      "(1, 101) (1, 101) (1, 101) (1, 101)\n",
      "[[  0.           0.63095734   1.26490353   1.90187924   2.54192611\n",
      "    3.18508676   3.83140483   4.48092499   5.133693     5.78975575\n",
      "    6.4491613    7.1119589    7.77819904   8.44793353   9.12121548\n",
      "    9.79809943  10.47864133  11.16289864  11.85093039  12.5427972\n",
      "   13.23856137  13.93828696  14.64203985  15.34988777  16.06190047\n",
      "   16.77814972  17.49870944  18.22365576  18.95306716  19.68702453\n",
      "   20.42561132  21.1689136   21.91702024  22.67002302  23.42801672\n",
      "   24.19109935  24.95937223  25.73294022  26.51191182  27.29639943\n",
      "   28.08651952  28.88239281  29.68414458  30.49190481  31.30580856\n",
      "   32.12599613  32.95261347  33.78581243  34.62575114  35.4725944\n",
      "   36.32651406  37.18768947  38.05630798  38.93256544  39.81666674\n",
      "   40.70882648  41.6092696   42.51823209  43.43596185  44.36271952\n",
      "   45.29877944  46.24443075  47.1999785   48.16574502  49.14207126\n",
      "   50.12931848  51.12786995  52.13813298  53.16054112  54.19555672\n",
      "   55.24367367  56.30542069  57.38136493  58.47211614  59.57833144\n",
      "   60.70072083  61.84005357  62.99716555  64.17296803  65.36845785\n",
      "   66.58472957  67.82298997  69.08457557  70.37097387  71.68384943\n",
      "   73.02507626  74.39677848  75.80138207  77.24168178  78.72092912\n",
      "   80.24295034  81.81230858  83.43453256  85.11645013  86.86669448\n",
      "   88.69651154  90.62113374  92.66232806  94.85374448  97.25455757\n",
      "  100.        ]]\n"
     ]
    }
   ],
   "source": [
    "from numba import njit\n",
    "from consav.grids import nonlinspace_jit\n",
    "import numpy as np\n",
    "\n",
    "def last_period(m,c,l,inv_v,a_max,Na,m_phi,sigma,nu,phi):\n",
    "    # last period consume all       \n",
    "    m[-1,:] = nonlinspace_jit(0,a_max,Na+1,m_phi)\n",
    "    c[-1,:] = m[-1,:]\n",
    "    l[-1,:] = np.zeros_like(c)\n",
    "    for i in range(1, Na+1):\n",
    "        c_now = c[-1, i]\n",
    "        l_now = l[-1, i]\n",
    "        inv_v[-1, i] = 1/((c_now**(1.0-sigma) - 1.0)/(1.0-sigma) - nu*(l_now**(1.0+phi))/(1.0+phi))\n",
    "    \n",
    "    inv_v[-1, 0] = 0\n",
    "\n",
    "    print(m.shape, c.shape, l.shape, inv_v.shape)\n",
    "\n",
    "    \n",
    "Na = 100\n",
    "c = np.zeros((1, Na+1))\n",
    "l = np.zeros((1, Na+1))\n",
    "m = np.zeros((1, Na+1))\n",
    "inv_v = np.zeros((1, Na+1))\n",
    "a_max = 100.0 # maximum point in grid for a\n",
    "m_phi = 1.1\n",
    "sigma = 2.0 # CRRA coefficient\n",
    "nu= 2.0\n",
    "phi = 0.9\n",
    "last_period(m,c,l,inv_v,a_max,Na,m_phi,sigma,nu,phi)"
   ]
  },
  {
   "cell_type": "code",
   "execution_count": 3,
   "metadata": {},
   "outputs": [
    {
     "name": "stderr",
     "output_type": "stream",
     "text": [
      "OMP: Info #271: omp_set_nested routine deprecated, please use omp_set_max_active_levels instead.\n",
      "Traceback (most recent call last):\n",
      "  File \"/Users/nicolaibernsen/Documents/KU/10.semester/Dynamic Programming/Dynamic-Programming-Project/hank_labor_model/model.py\", line 195, in solve\n",
      "    lastperiod.last_period(par,sol)\n",
      "ValueError: cannot assign slice from input of different size\n"
     ]
    },
    {
     "ename": "ValueError",
     "evalue": "cannot assign slice from input of different size",
     "output_type": "error",
     "traceback": [
      "\u001b[0;31m---------------------------------------------------------------------------\u001b[0m",
      "\u001b[0;31mValueError\u001b[0m                                Traceback (most recent call last)",
      "\u001b[0;32m/var/folders/38/4k8gxvgx5xl9x753jsnhn1_r0000gn/T/ipykernel_24259/2544335745.py\u001b[0m in \u001b[0;36m<module>\u001b[0;34m\u001b[0m\n\u001b[1;32m      6\u001b[0m \u001b[0;31m#Solve and simulate\u001b[0m\u001b[0;34m\u001b[0m\u001b[0;34m\u001b[0m\u001b[0m\n\u001b[1;32m      7\u001b[0m \u001b[0;31m# model.precompile_numba()\u001b[0m\u001b[0;34m\u001b[0m\u001b[0;34m\u001b[0m\u001b[0m\n\u001b[0;32m----> 8\u001b[0;31m \u001b[0mmodel\u001b[0m\u001b[0;34m.\u001b[0m\u001b[0msolve\u001b[0m\u001b[0;34m(\u001b[0m\u001b[0;34m)\u001b[0m\u001b[0;34m\u001b[0m\u001b[0;34m\u001b[0m\u001b[0m\n\u001b[0m\u001b[1;32m      9\u001b[0m \u001b[0;31m# model.simulate()\u001b[0m\u001b[0;34m\u001b[0m\u001b[0;34m\u001b[0m\u001b[0m\n\u001b[1;32m     10\u001b[0m \u001b[0;34m\u001b[0m\u001b[0m\n",
      "\u001b[0;32m~/Documents/KU/10.semester/Dynamic Programming/Dynamic-Programming-Project/hank_labor_model/model.py\u001b[0m in \u001b[0;36msolve\u001b[0;34m(self, do_print)\u001b[0m\n\u001b[1;32m    193\u001b[0m                 \u001b[0;31m# last period\u001b[0m\u001b[0;34m\u001b[0m\u001b[0;34m\u001b[0m\u001b[0m\n\u001b[1;32m    194\u001b[0m                 \u001b[0;32mif\u001b[0m \u001b[0mt\u001b[0m \u001b[0;34m==\u001b[0m \u001b[0mpar\u001b[0m\u001b[0;34m.\u001b[0m\u001b[0mT\u001b[0m\u001b[0;34m-\u001b[0m\u001b[0;36m1\u001b[0m\u001b[0;34m:\u001b[0m\u001b[0;34m\u001b[0m\u001b[0;34m\u001b[0m\u001b[0m\n\u001b[0;32m--> 195\u001b[0;31m                     \u001b[0mlastperiod\u001b[0m\u001b[0;34m.\u001b[0m\u001b[0mlast_period\u001b[0m\u001b[0;34m(\u001b[0m\u001b[0mpar\u001b[0m\u001b[0;34m,\u001b[0m\u001b[0msol\u001b[0m\u001b[0;34m)\u001b[0m\u001b[0;34m\u001b[0m\u001b[0;34m\u001b[0m\u001b[0m\n\u001b[0m\u001b[1;32m    196\u001b[0m \u001b[0;34m\u001b[0m\u001b[0m\n\u001b[1;32m    197\u001b[0m                 \u001b[0;31m# other periods\u001b[0m\u001b[0;34m\u001b[0m\u001b[0;34m\u001b[0m\u001b[0m\n",
      "\u001b[0;31mValueError\u001b[0m: cannot assign slice from input of different size"
     ]
    }
   ],
   "source": [
    "from model import ConSavingLaborModel\n",
    "\n",
    "#Load baseline settings\n",
    "model = ConSavingLaborModel(name='baseline')\n",
    "\n",
    "#Solve and simulate\n",
    "# model.precompile_numba()\n",
    "model.solve()\n",
    "# model.simulate()\n",
    "\n",
    "par = model.par\n",
    "sol = model.sol\n",
    "# sim = model.sim"
   ]
  },
  {
   "cell_type": "code",
   "execution_count": null,
   "metadata": {},
   "outputs": [],
   "source": [
    "model.solve_hh_ss(do_print=True)"
   ]
  },
  {
   "attachments": {},
   "cell_type": "markdown",
   "metadata": {},
   "source": [
    "### Value Function Iteration"
   ]
  },
  {
   "cell_type": "code",
   "execution_count": null,
   "metadata": {},
   "outputs": [],
   "source": [
    "model_vfi = ConSavModelClass()\n",
    "\n",
    "par = model_vfi.par\n",
    "sol = model_vfi.sol\n",
    "sim = model_vfi.sim\n",
    "\n",
    "model_vfi.solve(do_print=True,algo='vfi')"
   ]
  },
  {
   "cell_type": "code",
   "execution_count": null,
   "metadata": {},
   "outputs": [],
   "source": [
    "fig = plt.figure(figsize=(12,4),dpi=100)\n",
    "\n",
    "I = par.a_grid < 500\n",
    "\n",
    "# a. consumption\n",
    "ax = fig.add_subplot(1,3,1)\n",
    "ax.set_title(f'consumption')\n",
    "\n",
    "for i_z,z in enumerate(par.z_grid):\n",
    "    if i_z%3 == 0 or i_z == par.Nz-1:\n",
    "        ax.plot(par.a_grid[I],sol.c[i_z,:],label=f'z = {z:.2f}')\n",
    "\n",
    "ax.legend(frameon=True)\n",
    "ax.set_xlabel('savings, $a_{t-1}$')\n",
    "ax.set_ylabel('consumption, $c_t$')\n",
    "\n",
    "# b. saving\n",
    "ax = fig.add_subplot(1,3,2)\n",
    "ax.set_title(f'saving')\n",
    "\n",
    "for i_z,z in enumerate(par.z_grid):\n",
    "    if i_z%3 == 0 or i_z == par.Nz-1:\n",
    "        ax.plot(par.a_grid[I],sol.a[i_z,:]-par.a_grid[I],label=f'z = {z:.2f}')\n",
    "\n",
    "ax.set_xlabel('savings, $a_{t-1}$')\n",
    "ax.set_ylabel('savings change, $a_{t}-a_{t-1}$')\n",
    "\n",
    "# Labor Supply\n",
    "\n",
    "#fig = plt.figure(figsize=(6,4))\n",
    "ax = fig.add_subplot(1,3,3)\n",
    "\n",
    "ax.set_title(f'Labor Supply')\n",
    "\n",
    "for i_z,z in enumerate(par.z_grid):\n",
    "    if i_z%3 == 0 or i_z == par.Nz-1:\n",
    "        ax.plot(par.a_grid[I],sol.ell[i_z,:],label=f'z = {z:.2f}')\n",
    "\n",
    "ax.grid(visible=True, which = 'major', linestyle='-', linewidth=0.5, color='0.9', zorder=0)\n",
    "ax.tick_params(axis='both', bottom=True, top=True, left=True, right=True, direction='in', which='both')\n",
    "\n",
    "ax.set_xlabel('savings, $a_{t-1}$')\n",
    "ax.set_ylabel('Labor supply, $l_t$')\n",
    "\n",
    "fig.tight_layout()"
   ]
  },
  {
   "attachments": {},
   "cell_type": "markdown",
   "metadata": {},
   "source": [
    "### Endogenous Grid Method"
   ]
  },
  {
   "cell_type": "code",
   "execution_count": null,
   "metadata": {},
   "outputs": [],
   "source": [
    "model_egm = model_vfi.copy()"
   ]
  },
  {
   "cell_type": "code",
   "execution_count": null,
   "metadata": {},
   "outputs": [],
   "source": [
    "model_egm.solve(do_print=True,algo='egm')"
   ]
  },
  {
   "attachments": {},
   "cell_type": "markdown",
   "metadata": {},
   "source": [
    "### Compare Solution Methods"
   ]
  },
  {
   "cell_type": "code",
   "execution_count": null,
   "metadata": {},
   "outputs": [],
   "source": [
    "fig = plt.figure()\n",
    "ax = fig.add_subplot(1,1,1)\n",
    "for i_z in range(par.Nz):\n",
    "    ax.plot(par.a_grid,model_vfi.sol.a[i_z,:])\n",
    "    \n",
    "ax.set_xlabel('$a_{t-1}$');\n",
    "ax.set_ylabel('diff. to egm');"
   ]
  },
  {
   "cell_type": "code",
   "execution_count": null,
   "metadata": {},
   "outputs": [],
   "source": []
  }
 ],
 "metadata": {
  "kernelspec": {
   "display_name": "Python 3.9.7 ('base')",
   "language": "python",
   "name": "python3"
  },
  "language_info": {
   "codemirror_mode": {
    "name": "ipython",
    "version": 3
   },
   "file_extension": ".py",
   "mimetype": "text/x-python",
   "name": "python",
   "nbconvert_exporter": "python",
   "pygments_lexer": "ipython3",
   "version": "3.9.7"
  },
  "orig_nbformat": 4,
  "vscode": {
   "interpreter": {
    "hash": "f391330d4b460aafb87b0964baa3bc9feb41f83abb3c41e72e23789a7e646ea5"
   }
  }
 },
 "nbformat": 4,
 "nbformat_minor": 2
}
